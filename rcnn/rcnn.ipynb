{
 "cells": [
  {
   "cell_type": "markdown",
   "metadata": {
    "slideshow": {
     "slide_type": "slide"
    }
   },
   "source": [
    "# R-CNN"
   ]
  },
  {
   "cell_type": "markdown",
   "metadata": {
    "slideshow": {
     "slide_type": "slide"
    }
   },
   "source": [
    "## Object detction\n",
    "\n",
    "Machine learning approaches:\n",
    "\n",
    "1) Viola–Jones object detection framework based on Haar features<br>\n",
    "2) Scale-invariant feature transform (SIFT)<br>\n",
    "3) Histogram of oriented gradients (HOG) features<br>"
   ]
  },
  {
   "cell_type": "markdown",
   "metadata": {
    "slideshow": {
     "slide_type": "subslide"
    }
   },
   "source": [
    "### Classification\n",
    "\n",
    "<img src=\"./data/image-classification-pipeline.jpg\" width=\"500\">"
   ]
  },
  {
   "cell_type": "markdown",
   "metadata": {
    "slideshow": {
     "slide_type": "subslide"
    }
   },
   "source": [
    "### Image pyramid and sliding window\n",
    "\n",
    "<table>\n",
    "    <tr>\n",
    "        <th><img src=\"./data/pyramid_example.png\" width=\"300\"></th>\n",
    "        <th><img src=\"./data/sliding_window_example.gif\" width=\"250\"></th>\n",
    "    </tr>\n",
    "</table>"
   ]
  },
  {
   "cell_type": "markdown",
   "metadata": {
    "slideshow": {
     "slide_type": "subslide"
    }
   },
   "source": [
    "### NMS\n",
    "\n",
    "<img src=\"./data/hog_object_detection_nms.jpg\" width=\"500\">"
   ]
  },
  {
   "cell_type": "markdown",
   "metadata": {
    "slideshow": {
     "slide_type": "slide"
    }
   },
   "source": [
    "## R-CNN\n",
    "\n",
    "R-CNN consists of three modules:\n",
    "\n",
    "1) Category-independent region proposals generator <br>\n",
    "2) CNN feature extractor <br>\n",
    "3) Set of classs pecific linear SVMs <br>\n",
    "\n",
    "<img src=\"./data/rcnn-pipeline.png\" width=\"700\">"
   ]
  },
  {
   "cell_type": "markdown",
   "metadata": {
    "slideshow": {
     "slide_type": "subslide"
    }
   },
   "source": [
    "### Selective search\n",
    "\n",
    "Selective Search is a region proposal algorithm used in object detection. <br>\n",
    "It is based on computing hierarchical grouping of similar regions based on color, texture, size and shape compatibility. <br><br>\n",
    "\n",
    "\n",
    "<table>\n",
    "    <tr>\n",
    "        <th><img src=\"./data/selective-search-0.png\" width=\"300\"></th>\n",
    "        <th><img src=\"./data/selective-search-1.png\" width=\"300\"></th>\n",
    "        <th><img src=\"./data/selective-search-2.png\" width=\"300\"></th>\n",
    "    </tr>\n",
    "</table>"
   ]
  },
  {
   "cell_type": "markdown",
   "metadata": {
    "slideshow": {
     "slide_type": "subslide"
    }
   },
   "source": [
    "### Problems\n",
    "\n",
    "1) Extracting regions for each image based on selective search (no learning) <br>\n",
    "2) Extracting features using CNN for every image region <br>\n",
    "3) The entire process of object detection using R-CNN consists of 2 models <br>\n",
    "4) It cannot be implemented real time as it takes around 47 seconds for each test image <br>"
   ]
  },
  {
   "cell_type": "markdown",
   "metadata": {
    "slideshow": {
     "slide_type": "slide"
    }
   },
   "source": [
    "## Fast R-CNN\n",
    "\n",
    "1) Network takes as input an entire image and a set of object proposals <br>\n",
    "2) CNN produce a conv feature map <br>\n",
    "3) For each object proposal a RoI pooling layer extracts a fixed-length feature vector from the feature map <br>\n",
    "4) Each feature vector is fed into a MLP that finally branch into two sibling output layers: softmax probability over K + 1 classes and four real-valued numbers for each of the K object classes which encodes refined bounding-box positions <br>\n",
    "\n",
    "<img src=\"./data/fast-rcnn-pipeline.png\" width=\"700\">"
   ]
  },
  {
   "cell_type": "markdown",
   "metadata": {
    "slideshow": {
     "slide_type": "subslide"
    }
   },
   "source": [
    "### RoI pooling\n",
    "\n",
    "<img src=\"./data/roi_pooling.gif\" width=\"500\">"
   ]
  },
  {
   "cell_type": "markdown",
   "metadata": {
    "slideshow": {
     "slide_type": "subslide"
    }
   },
   "source": [
    "### Multi-task Loss\n",
    "\n",
    "<img src=\"./data/multitask_loss.png\" width=\"400\">"
   ]
  },
  {
   "cell_type": "markdown",
   "metadata": {
    "slideshow": {
     "slide_type": "subslide"
    }
   },
   "source": [
    "### Comparison\n",
    "\n",
    "<img src=\"./data/fast-rcnn-comparison.png\" width=\"600\">"
   ]
  },
  {
   "cell_type": "markdown",
   "metadata": {
    "slideshow": {
     "slide_type": "subslide"
    }
   },
   "source": [
    "### Problems\n",
    "\n",
    "1) Regions still extracted with selective search <br>\n",
    "2) Faster, but not real-time model <br>"
   ]
  },
  {
   "cell_type": "markdown",
   "metadata": {
    "slideshow": {
     "slide_type": "slide"
    }
   },
   "source": [
    "## Faster R-CNN\n",
    "\n",
    "1) Selective search replaced by RPN <br>\n",
    "2) Detection is Fast R-CNN <br>\n",
    "\n",
    "<img src=\"./data/faster-rcnn-pipeline.png\" width=\"300\">"
   ]
  },
  {
   "cell_type": "markdown",
   "metadata": {
    "slideshow": {
     "slide_type": "subslide"
    }
   },
   "source": [
    "### RPN\n",
    "\n",
    "1) Extract feature map from input image <br>\n",
    "2) Sliding window is used in RPN for each location over the feature map <br>\n",
    "3) For each location, k (k=9) anchor boxes are used (3 scales of 128, 256 and 512, and 3 aspect ratios of 1:1, 1:2, 2:1) for generating region proposals <br>\n",
    "4) A cls layer outputs 2k scores whether there is object or not for k boxes <br>\n",
    "5) A reg layer outputs 4k for the coordinates (box center coordinates, width and height) of k boxes <br>\n",
    "6) With a size of $W \\times H$ feature map, there are $WHk$ anchors in total <br>"
   ]
  },
  {
   "cell_type": "markdown",
   "metadata": {
    "slideshow": {
     "slide_type": "subslide"
    }
   },
   "source": [
    "### Anchors\n",
    "\n",
    "<img src=\"./data/anchors.png\" width=\"500\">"
   ]
  },
  {
   "cell_type": "markdown",
   "metadata": {
    "slideshow": {
     "slide_type": "subslide"
    }
   },
   "source": [
    "RPN network is to pre-check which location contains object. And the corresponding locations and bounding boxes will pass to detection network for detecting the object class and returning the bounding box of that object. <br><br>\n",
    "NMS is used to reduce the number of proposals from about 6000 to N (N=300) <br>"
   ]
  },
  {
   "cell_type": "markdown",
   "metadata": {
    "slideshow": {
     "slide_type": "subslide"
    }
   },
   "source": [
    "### 4-Step Alternating Training\n",
    "\n",
    "1) Train (fine-tune) RPN with imagenet pre-trained model <br>\n",
    "2) Train (fine-tune) a separate detection network with imagenet pre-trained model. (Conv layers not yet shared) <br>\n",
    "3) Use the detector network to initialize PRN training, fix the shared conv layers, only fine-tune unique layers of RPN <br>\n",
    "4) Keep the conv layers fixed, fine-tune the unique layers of detector network <br>"
   ]
  },
  {
   "cell_type": "markdown",
   "metadata": {
    "slideshow": {
     "slide_type": "subslide"
    }
   },
   "source": [
    "### Comparison\n",
    "\n",
    "<img src=\"./data/faster-rcnn-comparison.png\" width=\"600\">"
   ]
  },
  {
   "cell_type": "markdown",
   "metadata": {
    "slideshow": {
     "slide_type": "slide"
    }
   },
   "source": [
    "## References\n",
    "\n",
    "1. Simple HOG+SVM object detector https://www.pyimagesearch.com/2014/11/10/histogram-oriented-gradients-object-detection/ <br>\n",
    "2. R-CNN https://arxiv.org/pdf/1311.2524.pdf <br>\n",
    "3. Fast R-CNN https://arxiv.org/pdf/1504.08083.pdf <br>\n",
    "4. Faster R-CNN https://arxiv.org/pdf/1506.01497.pdf <br>\n",
    "5. Introduction to the basic detection algorithms https://www.analyticsvidhya.com/blog/2018/10/a-step-by-step-introduction-to-the-basic-object-detection-algorithms-part-1/ <br>\n",
    "6. R-CNN review https://medium.com/coinmonks/review-r-cnn-object-detection-b476aba290d1 <br>\n",
    "7. Fast R-CNN review https://medium.com/coinmonks/review-fast-r-cnn-object-detection-a82e172e87ba <br>\n",
    "8. Faster R-CNN review https://towardsdatascience.com/review-faster-r-cnn-object-detection-f5685cb30202 <br>"
   ]
  }
 ],
 "metadata": {
  "celltoolbar": "Slideshow",
  "kernelspec": {
   "display_name": "Python 3",
   "language": "python",
   "name": "python3"
  },
  "language_info": {
   "codemirror_mode": {
    "name": "ipython",
    "version": 3
   },
   "file_extension": ".py",
   "mimetype": "text/x-python",
   "name": "python",
   "nbconvert_exporter": "python",
   "pygments_lexer": "ipython3",
   "version": "3.5.2"
  }
 },
 "nbformat": 4,
 "nbformat_minor": 2
}
